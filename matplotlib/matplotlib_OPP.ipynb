{
 "cells": [
  {
   "cell_type": "code",
   "execution_count": 29,
   "id": "3bf9d6da",
   "metadata": {},
   "outputs": [],
   "source": [
    "import numpy as np\n",
    "import matplotlib.pyplot as plt"
   ]
  },
  {
   "cell_type": "markdown",
   "id": "4540264d",
   "metadata": {},
   "source": [
    "## OPP at Matplotlib"
   ]
  },
  {
   "cell_type": "code",
   "execution_count": 30,
   "id": "2d05c0ac",
   "metadata": {},
   "outputs": [
    {
     "data": {
      "text/plain": [
       "<Figure size 640x480 with 0 Axes>"
      ]
     },
     "metadata": {},
     "output_type": "display_data"
    }
   ],
   "source": [
    "#Building a figure\n",
    "fig = plt.figure()"
   ]
  },
  {
   "cell_type": "code",
   "execution_count": 31,
   "id": "b5279563",
   "metadata": {},
   "outputs": [],
   "source": [
    "x = np.linspace(0, 5, 11)\n",
    "y = x ** 2"
   ]
  },
  {
   "cell_type": "code",
   "execution_count": 32,
   "id": "d757dd72",
   "metadata": {},
   "outputs": [
    {
     "data": {
      "text/plain": [
       "Text(0.5, 1.0, 'Title of chart')"
      ]
     },
     "execution_count": 32,
     "metadata": {},
     "output_type": "execute_result"
    }
   ],
   "source": [
    "#Adding axis to a figure\n",
    "axes = fig.add_axes([\n",
    "    0.1, #Left\n",
    "    0.1, #bottom\n",
    "    0.8, #width\n",
    "    0.8 #height\n",
    "])\n",
    "\n",
    "%matplotlib inline\n",
    "axes.plot(x, y, \"blue\")\n",
    "axes.set_xlabel(\"x axis\")\n",
    "axes.set_ylabel(\"y axis\")\n",
    "axes.set_title(\"Title of chart\")"
   ]
  },
  {
   "cell_type": "code",
   "execution_count": 33,
   "id": "82cdfcfe",
   "metadata": {},
   "outputs": [
    {
     "data": {
      "text/plain": [
       "Text(0.5, 1.0, 'Title of chart')"
      ]
     },
     "execution_count": 33,
     "metadata": {},
     "output_type": "execute_result"
    }
   ],
   "source": [
    "#Adding another axis to a figure\n",
    "axes2 = fig.add_axes([\n",
    "    0.2, #Left\n",
    "    0.2, #bottom\n",
    "    0.4, #width\n",
    "    0.3 #height\n",
    "])\n",
    "\n",
    "%matplotlib inline\n",
    "axes2.plot(x, y, \"red\")\n",
    "axes2.set_xlabel(\"x axis\")\n",
    "axes2.set_ylabel(\"y axis\")\n",
    "axes2.set_title(\"Title of chart\")"
   ]
  }
 ],
 "metadata": {
  "kernelspec": {
   "display_name": "Python 3",
   "language": "python",
   "name": "python3"
  },
  "language_info": {
   "codemirror_mode": {
    "name": "ipython",
    "version": 3
   },
   "file_extension": ".py",
   "mimetype": "text/x-python",
   "name": "python",
   "nbconvert_exporter": "python",
   "pygments_lexer": "ipython3",
   "version": "3.12.1"
  }
 },
 "nbformat": 4,
 "nbformat_minor": 5
}

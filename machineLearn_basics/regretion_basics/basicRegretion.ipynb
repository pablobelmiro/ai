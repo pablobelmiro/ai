{
 "cells": [
  {
   "cell_type": "code",
   "execution_count": 1,
   "id": "0989a22f",
   "metadata": {},
   "outputs": [],
   "source": [
    "import pandas as pd\n",
    "import plotly.express as px\n",
    "import plotly.graph_objects as go\n",
    "import matplotlib.pyplot as plt\n",
    "import seaborn as sns\n",
    "import numpy as np"
   ]
  },
  {
   "cell_type": "code",
   "execution_count": null,
   "id": "273be76e",
   "metadata": {},
   "outputs": [
    {
     "name": "stdout",
     "output_type": "stream",
     "text": [
      "                               address                 district  area  \\\n",
      "0                           Rua Herval               Belenzinho    21   \n",
      "1                   Avenida São Miguel             Vila Marieta    15   \n",
      "2                     Rua Oscar Freire                Pinheiros    18   \n",
      "3                     Rua Júlio Sayago                  Vila Ré    56   \n",
      "4                   Rua Barata Ribeiro               Bela Vista    19   \n",
      "...                                ...                      ...   ...   \n",
      "11652          Avenida Adolfo Pinheiro              Santo Amaro    94   \n",
      "11653  Rua Professor Alexandre Correia     Jardim Vitória Régia   350   \n",
      "11654                 Rua Abílio Borin         Jardim Caravelas    84   \n",
      "11655                Rua Forte William  Jardim Fonte do Morumbi    76   \n",
      "11656              Rua Alexandre Dumas              Santo Amaro   110   \n",
      "\n",
      "       bedrooms  garage                type   rent  total  \n",
      "0             1       0     Studio e kitnet   2400   2939  \n",
      "1             1       1     Studio e kitnet   1030   1345  \n",
      "2             1       0         Apartamento   4000   4661  \n",
      "3             2       2  Casa em condomínio   1750   1954  \n",
      "4             1       0     Studio e kitnet   4000   4654  \n",
      "...         ...     ...                 ...    ...    ...  \n",
      "11652         2       1         Apartamento   4100   5778  \n",
      "11653         4       4         Apartamento  11250  17480  \n",
      "11654         1       2         Apartamento   4500   5467  \n",
      "11655         1       0         Apartamento   9000  10200  \n",
      "11656         3       1                Casa   3300   3440  \n",
      "\n",
      "[11657 rows x 8 columns]\n"
     ]
    }
   ],
   "source": [
    "#loading dataframe\n",
    "df_data = pd.read_csv(\"data.csv\")\n",
    "print(df_data)"
   ]
  }
 ],
 "metadata": {
  "kernelspec": {
   "display_name": "Python 3",
   "language": "python",
   "name": "python3"
  },
  "language_info": {
   "codemirror_mode": {
    "name": "ipython",
    "version": 3
   },
   "file_extension": ".py",
   "mimetype": "text/x-python",
   "name": "python",
   "nbconvert_exporter": "python",
   "pygments_lexer": "ipython3",
   "version": "3.12.1"
  }
 },
 "nbformat": 4,
 "nbformat_minor": 5
}
